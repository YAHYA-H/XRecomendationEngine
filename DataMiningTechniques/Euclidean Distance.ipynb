{
 "cells": [
  {
   "cell_type": "markdown",
   "metadata": {},
   "source": [
    "### Euclidean Distance"
   ]
  },
  {
   "cell_type": "code",
   "execution_count": 3,
   "metadata": {},
   "outputs": [],
   "source": [
    "# Euclidean distance can be defined as the length of the \n",
    "# line segment joining the two data points plotted on an n-dimensional cartesian plane."
   ]
  },
  {
   "cell_type": "code",
   "execution_count": 10,
   "metadata": {},
   "outputs": [],
   "source": [
    "# Function to compute Euclidean Distance\n",
    "import numpy as np\n",
    "\n",
    "def euclidean(v1, v2):\n",
    "    # convert 1-D lists to numpy vectors\n",
    "    v1 = np.array(v1)\n",
    "    v2 = np.array(v2)\n",
    "    \n",
    "    #compute vector which is the element-wise square of the difference\n",
    "    diff = np.power(np.array(v1)-np.array(v2), 2)\n",
    "    \n",
    "    #perform summation of the element of the above vector\n",
    "    signal_val = np.sum(diff)\n",
    "    \n",
    "    #complete square root & returns final euclidean score\n",
    "    euclid_score = np.sqrt(signal_val)\n",
    "    \n",
    "    return euclid_score    \n",
    "    "
   ]
  },
  {
   "cell_type": "code",
   "execution_count": 11,
   "metadata": {},
   "outputs": [],
   "source": [
    "# Define 3 users with rating for 5 movies\n",
    "u1 = [5,1,2,4,5]\n",
    "u2 = [1,5,4,2,1]\n",
    "u3 = [5,2,2,4,4]"
   ]
  },
  {
   "cell_type": "code",
   "execution_count": 12,
   "metadata": {},
   "outputs": [
    {
     "data": {
      "text/plain": [
       "7.483314773547883"
      ]
     },
     "execution_count": 12,
     "metadata": {},
     "output_type": "execute_result"
    }
   ],
   "source": [
    "# user 1 & user 2\n",
    "euclidean(u1,u2)"
   ]
  },
  {
   "cell_type": "code",
   "execution_count": 13,
   "metadata": {},
   "outputs": [
    {
     "data": {
      "text/plain": [
       "1.4142135623730951"
      ]
     },
     "execution_count": 13,
     "metadata": {},
     "output_type": "execute_result"
    }
   ],
   "source": [
    "# user 1 & user 3\n",
    "euclidean(u1,u3)"
   ]
  },
  {
   "cell_type": "markdown",
   "metadata": {},
   "source": [
    "##### Pearson correlation"
   ]
  },
  {
   "cell_type": "code",
   "execution_count": 20,
   "metadata": {},
   "outputs": [],
   "source": [
    "# Pearson correlation is a score btn -1 & 1 where -1 indicates total negative corellation\n",
    "# and 1 indicate total positive correlation and \"0\" indicates that the two\n",
    "# entities are no way correlated with each other(independent of each other)"
   ]
  },
  {
   "cell_type": "code",
   "execution_count": 16,
   "metadata": {},
   "outputs": [
    {
     "data": {
      "text/plain": [
       "2.23606797749979"
      ]
     },
     "execution_count": 16,
     "metadata": {},
     "output_type": "execute_result"
    }
   ],
   "source": [
    "# Alice is stingy with her rating never gives more than a 4 \n",
    "# Bob is liberal and never gives anything below a 2 rating\n",
    "\n",
    "alice = [1,1,3,2,4]\n",
    "bob = [2,2,4,3,5]\n",
    "\n",
    "euclidean(alice, bob)"
   ]
  },
  {
   "cell_type": "code",
   "execution_count": 18,
   "metadata": {},
   "outputs": [
    {
     "data": {
      "text/plain": [
       "6.324555320336759"
      ]
     },
     "execution_count": 18,
     "metadata": {},
     "output_type": "execute_result"
    }
   ],
   "source": [
    "# Eve has the polar opp tastes of Alice\n",
    "eve = [5,5,3,4,2]\n",
    "\n",
    "euclidean(eve, alice)"
   ]
  },
  {
   "cell_type": "code",
   "execution_count": 22,
   "metadata": {},
   "outputs": [
    {
     "data": {
      "text/plain": [
       "(1.0, 0.0)"
      ]
     },
     "execution_count": 22,
     "metadata": {},
     "output_type": "execute_result"
    }
   ],
   "source": [
    "# Scipy packages gives us access to a function that \n",
    "# computes the \"Pearson similarity scores:\n",
    "\n",
    "from scipy.stats import pearsonr\n",
    "\n",
    "#alice & bob\n",
    "pearsonr(alice, bob)"
   ]
  },
  {
   "cell_type": "code",
   "execution_count": 23,
   "metadata": {},
   "outputs": [
    {
     "data": {
      "text/plain": [
       "(-1.0, 0.0)"
      ]
     },
     "execution_count": 23,
     "metadata": {},
     "output_type": "execute_result"
    }
   ],
   "source": [
    "# alice & eve\n",
    "pearsonr(alice,eve)"
   ]
  },
  {
   "cell_type": "code",
   "execution_count": null,
   "metadata": {},
   "outputs": [],
   "source": []
  }
 ],
 "metadata": {
  "kernelspec": {
   "display_name": "Python 3",
   "language": "python",
   "name": "python3"
  },
  "language_info": {
   "codemirror_mode": {
    "name": "ipython",
    "version": 3
   },
   "file_extension": ".py",
   "mimetype": "text/x-python",
   "name": "python",
   "nbconvert_exporter": "python",
   "pygments_lexer": "ipython3",
   "version": "3.7.1"
  }
 },
 "nbformat": 4,
 "nbformat_minor": 2
}
